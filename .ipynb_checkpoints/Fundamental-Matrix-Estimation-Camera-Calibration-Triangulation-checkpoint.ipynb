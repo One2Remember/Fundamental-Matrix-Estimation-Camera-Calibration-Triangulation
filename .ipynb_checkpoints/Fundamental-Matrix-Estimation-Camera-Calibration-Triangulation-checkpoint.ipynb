{
 "cells": [
  {
   "cell_type": "code",
   "execution_count": 1,
   "id": "f6e3627b",
   "metadata": {},
   "outputs": [],
   "source": [
    "from PIL import Image\n",
    "import numpy as np\n",
    "import matplotlib.pyplot as plt"
   ]
  },
  {
   "cell_type": "code",
   "execution_count": 2,
   "id": "317d48c6",
   "metadata": {},
   "outputs": [],
   "source": [
    "## Camera Calibration\n",
    "\n",
    "def evaluate_points(M, points_2d, points_3d):\n",
    "    \"\"\"\n",
    "    Visualize the actual 2D points and the projected 2D points calculated from\n",
    "    the projection matrix\n",
    "    You do not need to modify anything in this function, although you can if you\n",
    "    want to\n",
    "    :param M: projection matrix 3 x 4\n",
    "    :param points_2d: 2D points N x 2\n",
    "    :param points_3d: 3D points N x 3\n",
    "    :return:\n",
    "    \"\"\"\n",
    "    N = len(points_3d)\n",
    "    points_3d = np.hstack((points_3d, np.ones((N, 1))))\n",
    "    points_3d_proj = np.dot(M, points_3d.T).T\n",
    "    u = points_3d_proj[:, 0] / points_3d_proj[:, 2]\n",
    "    v = points_3d_proj[:, 1] / points_3d_proj[:, 2]\n",
    "    residual = np.sum(np.hypot(u-points_2d[:, 0], v-points_2d[:, 1]))\n",
    "    points_3d_proj = np.hstack((u[:, np.newaxis], v[:, np.newaxis]))\n",
    "    return points_3d_proj, residual\n",
    "\n",
    "\n",
    "## Camera Centers\n",
    "\n",
    "\n",
    "## Triangulation\n",
    "\n",
    "def fit_fundamental(matches):\n",
    "    pass"
   ]
  },
  {
   "cell_type": "code",
   "execution_count": 3,
   "id": "cd97de3c",
   "metadata": {},
   "outputs": [
    {
     "ename": "FileNotFoundError",
     "evalue": "[Errno 2] No such file or directory: 'MP3_part2_data/library1.jpg'",
     "output_type": "error",
     "traceback": [
      "\u001b[1;31m---------------------------------------------------------------------------\u001b[0m",
      "\u001b[1;31mFileNotFoundError\u001b[0m                         Traceback (most recent call last)",
      "Input \u001b[1;32mIn [3]\u001b[0m, in \u001b[0;36m<cell line: 5>\u001b[1;34m()\u001b[0m\n\u001b[0;32m      1\u001b[0m \u001b[38;5;66;03m##\u001b[39;00m\n\u001b[0;32m      2\u001b[0m \u001b[38;5;66;03m## load images and match files for the first example\u001b[39;00m\n\u001b[0;32m      3\u001b[0m \u001b[38;5;66;03m##\u001b[39;00m\n\u001b[1;32m----> 5\u001b[0m I1 \u001b[38;5;241m=\u001b[39m \u001b[43mImage\u001b[49m\u001b[38;5;241;43m.\u001b[39;49m\u001b[43mopen\u001b[49m\u001b[43m(\u001b[49m\u001b[38;5;124;43m'\u001b[39;49m\u001b[38;5;124;43mMP3_part2_data/library1.jpg\u001b[39;49m\u001b[38;5;124;43m'\u001b[39;49m\u001b[43m)\u001b[49m;\n\u001b[0;32m      6\u001b[0m I2 \u001b[38;5;241m=\u001b[39m Image\u001b[38;5;241m.\u001b[39mopen(\u001b[38;5;124m'\u001b[39m\u001b[38;5;124mMP3_part2_data/library2.jpg\u001b[39m\u001b[38;5;124m'\u001b[39m);\n\u001b[0;32m      7\u001b[0m matches \u001b[38;5;241m=\u001b[39m np\u001b[38;5;241m.\u001b[39mloadtxt(\u001b[38;5;124m'\u001b[39m\u001b[38;5;124mMP3_part2_data/library_matches.txt\u001b[39m\u001b[38;5;124m'\u001b[39m); \n",
      "File \u001b[1;32m~\\.conda\\envs\\ComputerVision\\lib\\site-packages\\PIL\\Image.py:3092\u001b[0m, in \u001b[0;36mopen\u001b[1;34m(fp, mode, formats)\u001b[0m\n\u001b[0;32m   3089\u001b[0m     filename \u001b[38;5;241m=\u001b[39m fp\n\u001b[0;32m   3091\u001b[0m \u001b[38;5;28;01mif\u001b[39;00m filename:\n\u001b[1;32m-> 3092\u001b[0m     fp \u001b[38;5;241m=\u001b[39m \u001b[43mbuiltins\u001b[49m\u001b[38;5;241;43m.\u001b[39;49m\u001b[43mopen\u001b[49m\u001b[43m(\u001b[49m\u001b[43mfilename\u001b[49m\u001b[43m,\u001b[49m\u001b[43m \u001b[49m\u001b[38;5;124;43m\"\u001b[39;49m\u001b[38;5;124;43mrb\u001b[39;49m\u001b[38;5;124;43m\"\u001b[39;49m\u001b[43m)\u001b[49m\n\u001b[0;32m   3093\u001b[0m     exclusive_fp \u001b[38;5;241m=\u001b[39m \u001b[38;5;28;01mTrue\u001b[39;00m\n\u001b[0;32m   3095\u001b[0m \u001b[38;5;28;01mtry\u001b[39;00m:\n",
      "\u001b[1;31mFileNotFoundError\u001b[0m: [Errno 2] No such file or directory: 'MP3_part2_data/library1.jpg'"
     ]
    }
   ],
   "source": [
    "##\n",
    "## load images and match files for the first example\n",
    "##\n",
    "\n",
    "I1 = Image.open('MP4_part2_data/library1.jpg');\n",
    "I2 = Image.open('MP4_part2_data/library2.jpg');\n",
    "matches = np.loadtxt('MP4_part2_data/library_matches.txt'); \n",
    "\n",
    "# this is a N x 4 file where the first two numbers of each row\n",
    "# are coordinates of corners in the first image and the last two\n",
    "# are coordinates of corresponding corners in the second image: \n",
    "# matches(i,1:2) is a point in the first image\n",
    "# matches(i,3:4) is a corresponding point in the second image\n",
    "\n",
    "N = len(matches)"
   ]
  },
  {
   "cell_type": "code",
   "execution_count": null,
   "id": "b10b77ff",
   "metadata": {},
   "outputs": [],
   "source": [
    "##\n",
    "## display two images side-by-side with matches\n",
    "## this code is to help you visualize the matches, you don't need\n",
    "## to use it to produce the results for the assignment\n",
    "##\n",
    "\n",
    "I3 = np.zeros((I1.size[1],I1.size[0]*2,3) )\n",
    "I3[:,:I1.size[0],:] = I1;\n",
    "I3[:,I1.size[0]:,:] = I2;\n",
    "fig, ax = plt.subplots()\n",
    "ax.set_aspect('equal')\n",
    "ax.imshow(np.array(I3).astype(float))\n",
    "ax.plot(matches[:,0],matches[:,1],  '+r')\n",
    "ax.plot( matches[:,2]+I1.size[0],matches[:,3], '+r')\n",
    "ax.plot([matches[:,0], matches[:,2]+I1.size[0]],[matches[:,1], matches[:,3]], 'r')\n",
    "plt.show()"
   ]
  },
  {
   "cell_type": "code",
   "execution_count": null,
   "id": "6ad6525b",
   "metadata": {},
   "outputs": [],
   "source": [
    "##\n",
    "## display second image with epipolar lines reprojected \n",
    "## from the first image\n",
    "##\n",
    "\n",
    "# first, fit fundamental matrix to the matches\n",
    "F = fit_fundamental(matches); # this is a function that you should write\n",
    "M = np.c_[matches[:,0:2], np.ones((N,1))].transpose()\n",
    "L1 = np.matmul(F, M).transpose() # transform points from \n",
    "# the first image to get epipolar lines in the second image\n",
    "\n",
    "# find points on epipolar lines L closest to matches(:,3:4)\n",
    "l = np.sqrt(L1[:,0]**2 + L1[:,1]**2)\n",
    "L = np.divide(L1,np.kron(np.ones((3,1)),l).transpose())# rescale the line\n",
    "pt_line_dist = np.multiply(L, np.c_[matches[:,2:4], np.ones((N,1))]).sum(axis = 1)\n",
    "closest_pt = matches[:,2:4] - np.multiply(L[:,0:2],np.kron(np.ones((2,1)), pt_line_dist).transpose())\n",
    "\n",
    "# find endpoints of segment on epipolar line (for display purposes)\n",
    "pt1 = closest_pt - np.c_[L[:,1], -L[:,0]]*10# offset from the closest point is 10 pixels\n",
    "pt2 = closest_pt + np.c_[L[:,1], -L[:,0]]*10\n",
    "\n",
    "# display points and segments of corresponding epipolar lines\n",
    "fig, ax = plt.subplots()\n",
    "ax.set_aspect('equal')\n",
    "ax.imshow(np.array(I2).astype(float))\n",
    "ax.plot(matches[:,2],matches[:,3],  '+r')\n",
    "ax.plot([matches[:,2], closest_pt[:,0]],[matches[:,3], closest_pt[:,1]], 'r')\n",
    "ax.plot([pt1[:,0], pt2[:,0]],[pt1[:,1], pt2[:,1]], 'g')\n",
    "plt.show()"
   ]
  }
 ],
 "metadata": {
  "kernelspec": {
   "display_name": "Python 3 (ipykernel)",
   "language": "python",
   "name": "python3"
  },
  "language_info": {
   "codemirror_mode": {
    "name": "ipython",
    "version": 3
   },
   "file_extension": ".py",
   "mimetype": "text/x-python",
   "name": "python",
   "nbconvert_exporter": "python",
   "pygments_lexer": "ipython3",
   "version": "3.8.13"
  }
 },
 "nbformat": 4,
 "nbformat_minor": 5
}
